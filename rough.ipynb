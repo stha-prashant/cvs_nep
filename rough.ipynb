{
 "cells": [
  {
   "cell_type": "code",
   "execution_count": 26,
   "metadata": {},
   "outputs": [],
   "source": [
    "train_root = '/raid/binod/prashant/CVS_TRAIN'\n",
    "\n",
    "import cv2\n",
    "from PIL import Image\n",
    "\n",
    "def extract_frame_by_index(video_path, frame_index, output_image_path=\"\"):\n",
    "    # Open the video file\n",
    "    cap = cv2.VideoCapture(video_path)\n",
    "    \n",
    "    # Check if the video opened successfully\n",
    "    if not cap.isOpened():\n",
    "        print(f\"Error: Could not open video {video_path}\")\n",
    "        return\n",
    "    \n",
    "    # Set the frame position\n",
    "    cap.set(cv2.CAP_PROP_POS_FRAMES, frame_index)\n",
    "    \n",
    "    # Read the frame\n",
    "    ret, frame = cap.read()\n",
    "    \n",
    "    if ret:\n",
    "        # # Save the frame as an image\n",
    "        # cv2.imwrite(output_image_path, frame)\n",
    "        # print(f\"Frame {frame_index} extracted and saved to {output_image_path}\")\n",
    "        pass\n",
    "    else:\n",
    "        print(f\"Error: Could not read frame {frame_index}\")\n",
    "    \n",
    "    # Release the video capture object\n",
    "    cap.release()\n",
    "    img = cv2.cvtColor(cv2.resize(frame, (256, 256)), cv2.COLOR_BGR2RGB)\n",
    "    # cv2.imwrite(f'test_{frame_index}.jpg', frame)\n",
    "\n",
    "    return img\n",
    "\n",
    "def extract_prev_frames_by_index(video_path, frame_index, output_image_path=\"\"):\n",
    "    # Open the video file\n",
    "    imgs = []\n",
    "    for _ in range(5):\n",
    "        cap = cv2.VideoCapture(video_path)\n",
    "        \n",
    "        # Check if the video opened successfully\n",
    "        if not cap.isOpened():\n",
    "            print(f\"Error: Could not open video {video_path}\")\n",
    "            return\n",
    "        \n",
    "        # Set the frame position\n",
    "        cap.set(cv2.CAP_PROP_POS_FRAMES, frame_index)\n",
    "        \n",
    "        # Read the frame\n",
    "        ret, frame = cap.read()\n",
    "        \n",
    "        if ret:\n",
    "            # # Save the frame as an image\n",
    "            # cv2.imwrite(output_image_path, frame)\n",
    "            # print(f\"Frame {frame_index} extracted and saved to {output_image_path}\")\n",
    "            pass\n",
    "        else:\n",
    "            print(f\"Error: Could not read frame {frame_index}\")\n",
    "        \n",
    "        # Release the video capture object\n",
    "        cap.release()\n",
    "        img = cv2.cvtColor(cv2.resize(frame, (256, 256)), cv2.COLOR_BGR2RGB)\n",
    "        # cv2.imwrite(f'test_{frame_index}.jpg', frame)\n",
    "        imgs.append(img)\n",
    "        frame_index -= 30\n",
    "        if frame_index < 0:\n",
    "            break\n",
    "    return imgs\n",
    "\n",
    "\n"
   ]
  },
  {
   "cell_type": "code",
   "execution_count": 27,
   "metadata": {},
   "outputs": [],
   "source": [
    "import numpy as np\n",
    "def find_mode(numbers_array):\n",
    "    values, counts = np.unique(numbers_array, return_counts=True)\n",
    "    \n",
    "    # Find the index of the maximum count\n",
    "    max_count_index = np.argmax(counts)\n",
    "    \n",
    "    # The mode is the value at the index of the maximum count\n",
    "    mode = values[max_count_index]\n",
    "    \n",
    "    return mode\n"
   ]
  },
  {
   "cell_type": "code",
   "execution_count": 28,
   "metadata": {},
   "outputs": [],
   "source": [
    "import os\n",
    "import pandas as pd\n",
    "import pickle\n",
    "from tqdm import tqdm\n",
    "def preprocess(videos_list, split, mode='train'):\n",
    "    all_lists = []\n",
    "    # for video_id_mp4 in tqdm(os.listdir(os.path.join(train_root, 'videos'))):\n",
    "    for video_id in tqdm(videos_list):\n",
    "        # video_id = video_id_mp4[:-4]\n",
    "        if 'video_list' == '' or 'video_list' == None:\n",
    "            print(\"empty, or none found\")\n",
    "            continue\n",
    "        label_csv_path = os.path.join(train_root, 'labels', video_id, 'frame.csv')\n",
    "        if label_csv_path == '/raid/binod/prashant/CVS_TRAIN/labels/frame.csv':\n",
    "            print(\"error,\", video_id)\n",
    "            continue\n",
    "        df  = pd.read_csv(label_csv_path)\n",
    "        for index, row in df.iterrows():\n",
    "            frame_index = row['frame_id']\n",
    "            if mode == \"val\":\n",
    "                c1 = find_mode(np.array([row['c1_rater1'], row['c1_rater2'], row['c1_rater3']]))\n",
    "                c2 = find_mode(np.array([row['c2_rater1'], row['c2_rater2'], row['c2_rater3']]))\n",
    "                c3 = find_mode(np.array([row['c3_rater1'], row['c3_rater2'], row['c3_rater3']]))\n",
    "            elif mode == 'train':\n",
    "                c1 = np.mean(np.array([row['c1_rater1'], row['c1_rater2'], row['c1_rater3']]))\n",
    "                c2 = np.mean(np.array([row['c2_rater1'], row['c2_rater2'], row['c2_rater3']]))\n",
    "                c3 = np.mean(np.array([row['c3_rater1'], row['c3_rater2'], row['c3_rater3']]))\n",
    "            else:\n",
    "                assert 1 == 0\n",
    "            video_path = os.path.join(train_root, 'videos', f'{video_id}.mp4')\n",
    "\n",
    "            \n",
    "            img_array = extract_frame_by_index(video_path, frame_index)\n",
    "\n",
    "            dictionary = {\n",
    "                            'video_id': video_id,\n",
    "                            'frame_id': frame_index,\n",
    "                            'img_array': img_array,\n",
    "                            'label': [c1, c2, c3]\n",
    "                        }\n",
    "            all_lists.append(dictionary)\n",
    "\n",
    "    with open(f'single_images_mean_consistency_{split}.pkl', 'wb') as handle:\n",
    "    # with open('multiple_images_1fps.pkl', 'wb') as handle:\n",
    "        pickle.dump(all_lists, handle, protocol=pickle.HIGHEST_PROTOCOL)"
   ]
  },
  {
   "cell_type": "code",
   "execution_count": 60,
   "metadata": {},
   "outputs": [],
   "source": [
    "# opening the file in read mode\n",
    "import random \n",
    "my_file = open(\"/raid/binod/prashant/videos_list.txt\", \"r\") \n",
    "  \n",
    "# reading the file \n",
    "data = my_file.read() \n",
    "  \n",
    "# replacing end of line('/n') with ' ' and \n",
    "# splitting the text it further when '.' is seen. \n",
    "data_into_list = data.replace('\\n', ' ').split(\" \") \n",
    "  \n",
    "# printing the data \n",
    "my_file.close() \n",
    "\n",
    "random.shuffle(data_into_list)\n",
    "train_list = data_into_list[:int(0.8*len(data_into_list))]\n",
    "val_list = data_into_list[int(0.8*len(data_into_list)):]\n",
    "# print(train_list)\n",
    "# print(val_list)\n",
    "# preprocess(train_list, 'train', mode='train')\n",
    "# preprocess(val_list, 'val', mode='val')"
   ]
  },
  {
   "cell_type": "code",
   "execution_count": 64,
   "metadata": {},
   "outputs": [
    {
     "name": "stderr",
     "output_type": "stream",
     "text": [
      "100%|██████████| 279/279 [10:09<00:00,  2.19s/it]\n",
      "100%|██████████| 70/70 [02:38<00:00,  2.27s/it]\n"
     ]
    }
   ],
   "source": [
    "import cv2\n",
    "import os\n",
    "import pandas as pd\n",
    "import csv\n",
    "import json \n",
    "\n",
    "# Create the output directory if it doesn't exist\n",
    "output_dir_train = 'output_frames_train'\n",
    "if not os.path.exists(output_dir_train):\n",
    "    os.makedirs(output_dir_train)\n",
    "\n",
    "output_dir_val = 'output_frames_val'\n",
    "if not os.path.exists(output_dir_val):\n",
    "    os.makedirs(output_dir_val)\n",
    "\n",
    "label_dict = {}\n",
    "\n",
    "\n",
    "for filename in tqdm(train_list):\n",
    "\n",
    "    # Set the path to the video file and CSV file\n",
    "    filename = filename.split('.')[0]\n",
    "    video_path = os.path.join(train_root, f'videos/{filename}.mp4')\n",
    "    csv_path = os.path.join(train_root, f'labels/{filename}/frame.csv')\n",
    "\n",
    "    # Open the video capture\n",
    "    cap = cv2.VideoCapture(video_path)\n",
    "\n",
    "    # Get the video properties\n",
    "    fps = cap.get(cv2.CAP_PROP_FPS)\n",
    "    total_frames = int(cap.get(cv2.CAP_PROP_FRAME_COUNT))\n",
    "\n",
    "    # Read the CSV file into a pandas DataFrame\n",
    "    labels_df = pd.read_csv(csv_path)\n",
    "\n",
    "    # Initialize the frame counter\n",
    "    frame_counter = 0\n",
    "\n",
    "\n",
    "    # # Loop through the frames\n",
    "    while True:\n",
    "        # Read a frame from the video\n",
    "        ret, frame = cap.read()\n",
    "\n",
    "        # Check if the frame was read successfully\n",
    "        if not ret:\n",
    "            break\n",
    "\n",
    "        # Get the labels for the current frame\n",
    "        # print(frame_counter)\n",
    "        if (frame_counter==0 or frame_counter%150 == 0):\n",
    "            # print(frame_counter)\n",
    "            label = labels_df.loc[labels_df['frame_id'] == frame_counter].values\n",
    "            # print(label)\n",
    "            label = label[0]\n",
    "            c1 = label[1:4]\n",
    "            c2 = label[4:7]\n",
    "            c3 = label[7:]\n",
    "\n",
    "            c1 = 1 if sum(c1)>1 else 0\n",
    "            c2 = 1 if sum(c2)>1 else 0\n",
    "            c3 = 1 if sum(c3)>1 else 0\n",
    "\n",
    "            # print(c1, c2, c3)\n",
    "\n",
    "            image_name = filename +'_'+str(frame_counter)\n",
    "            label_dict[image_name] = [c1, c2, c3]\n",
    "\n",
    "            # print(label_dict)\n",
    "\n",
    "            # Save the frame with corresponding labels\n",
    "        \n",
    "            output_file = os.path.join(output_dir_train, f'{image_name}.jpg')\n",
    "\n",
    "            # Save the frame\n",
    "            cv2.imwrite(output_file, frame)\n",
    "\n",
    "        # Increment the frame counter\n",
    "        frame_counter += 1\n",
    "\n",
    "        # Break if we've reached the end of the video\n",
    "        if frame_counter >= total_frames:\n",
    "            break\n",
    "\n",
    "with open('data_train.json', 'w') as j:\n",
    "    json.dump(label_dict, j)\n",
    "\n",
    "# Release the video capture and close the windows\n",
    "cap.release()\n",
    "cv2.destroyAllWindows()\n",
    "\n",
    "\n",
    "\n",
    "\n",
    "for filename in tqdm(val_list):\n",
    "\n",
    "    # Set the path to the video file and CSV file\n",
    "    filename = filename.split('.')[0]\n",
    "    video_path = os.path.join(train_root, f'videos/{filename}.mp4')\n",
    "    csv_path = os.path.join(train_root, f'labels/{filename}/frame.csv')\n",
    "\n",
    "    # Open the video capture\n",
    "    cap = cv2.VideoCapture(video_path)\n",
    "\n",
    "    # Get the video properties\n",
    "    fps = cap.get(cv2.CAP_PROP_FPS)\n",
    "    total_frames = int(cap.get(cv2.CAP_PROP_FRAME_COUNT))\n",
    "\n",
    "    # Read the CSV file into a pandas DataFrame\n",
    "    labels_df = pd.read_csv(csv_path)\n",
    "\n",
    "    # Initialize the frame counter\n",
    "    frame_counter = 0\n",
    "\n",
    "\n",
    "    # # Loop through the frames\n",
    "    while True:\n",
    "        # Read a frame from the video\n",
    "        ret, frame = cap.read()\n",
    "\n",
    "        # Check if the frame was read successfully\n",
    "        if not ret:\n",
    "            break\n",
    "\n",
    "        # Get the labels for the current frame\n",
    "        # print(frame_counter)\n",
    "        if (frame_counter==0 or frame_counter%150 == 0):\n",
    "            # print(frame_counter)\n",
    "            label = labels_df.loc[labels_df['frame_id'] == frame_counter].values\n",
    "            # print(label)\n",
    "            label = label[0]\n",
    "            c1 = label[1:4]\n",
    "            c2 = label[4:7]\n",
    "            c3 = label[7:]\n",
    "\n",
    "            c1 = 1 if sum(c1)>1 else 0\n",
    "            c2 = 1 if sum(c2)>1 else 0\n",
    "            c3 = 1 if sum(c3)>1 else 0\n",
    "\n",
    "            # print(c1, c2, c3)\n",
    "\n",
    "            image_name = filename +'_'+str(frame_counter)\n",
    "            label_dict[image_name] = [c1, c2, c3]\n",
    "\n",
    "            # print(label_dict)\n",
    "\n",
    "            # Save the frame with corresponding labels\n",
    "        \n",
    "            output_file = os.path.join(output_dir_val, f'{image_name}.jpg')\n",
    "\n",
    "            # Save the frame\n",
    "            cv2.imwrite(output_file, frame)\n",
    "\n",
    "        # Increment the frame counter\n",
    "        frame_counter += 1\n",
    "\n",
    "        # Break if we've reached the end of the video\n",
    "        if frame_counter >= total_frames:\n",
    "            break\n",
    "\n",
    "with open('data_val.json', 'w') as j:\n",
    "    json.dump(label_dict, j)\n",
    "\n",
    "# Release the video capture and close the windows\n",
    "cap.release()\n",
    "cv2.destroyAllWindows()"
   ]
  },
  {
   "cell_type": "code",
   "execution_count": null,
   "metadata": {},
   "outputs": [],
   "source": [
    "print(val_list[75:83])"
   ]
  },
  {
   "cell_type": "code",
   "execution_count": 62,
   "metadata": {},
   "outputs": [],
   "source": [
    "for i, line in enumerate(train_list):\n",
    "    if line == \"\":\n",
    "        empty = i\n",
    "        print(i, \"empty\")\n",
    "    \n",
    "# train_list = train_list[:empty] + train_list[empty+1:]"
   ]
  },
  {
   "cell_type": "code",
   "execution_count": 63,
   "metadata": {},
   "outputs": [],
   "source": [
    "with open('val_list.txt', 'w') as f:\n",
    "    for line in val_list:\n",
    "        f.write(f\"{line}\\n\")\n",
    "with open('train_list.txt', 'w') as f:\n",
    "    for line in train_list:\n",
    "        f.write(f\"{line}\\n\")"
   ]
  },
  {
   "attachments": {},
   "cell_type": "markdown",
   "metadata": {},
   "source": [
    "# Dataloader"
   ]
  },
  {
   "cell_type": "code",
   "execution_count": 46,
   "metadata": {},
   "outputs": [],
   "source": [
    "import torch\n",
    "import numpy as numpy\n",
    "from torch.utils.data import Dataset, DataLoader\n",
    "from torchvision.transforms import v2\n",
    "import pickle\n",
    "from PIL import Image\n",
    "\n",
    "\n",
    "class SingleImageDataset(Dataset):\n",
    "    def __init__(self, pkl_file, transform=None):\n",
    "\n",
    "        self.transform = transform\n",
    "        if self.transform is None:\n",
    "            transforms = v2.Compose([\n",
    "                v2.Resize(224),\n",
    "                v2.ToImage(),\n",
    "                v2.ToDtype(torch.float32, scale=True),\n",
    "                v2.Normalize(mean=[0.485, 0.456, 0.406], std=[0.229, 0.224, 0.225]),\n",
    "            ])\n",
    "        with open(pkl_file, 'rb') as f:\n",
    "            self.data = pickle.load(f)\n",
    "        \n",
    "    def __len__(self):\n",
    "        return len(self.data)\n",
    "        \n",
    "    def __getitem__(self, idx):\n",
    "        item = self.data[idx]\n",
    "        image = Image.fromarray(item['img_array'])\n",
    "        if self.transform:\n",
    "            image = self.transform(image)\n",
    "        label = torch.tensor(item['label'], dtype=torch.float32)\n",
    "        return image, label\n"
   ]
  },
  {
   "cell_type": "code",
   "execution_count": 47,
   "metadata": {},
   "outputs": [],
   "source": [
    "import torchvision\n",
    "from torch.optim import AdamW\n",
    "import torch.nn as nn\n",
    "from torchvision.transforms import v2\n",
    "import time"
   ]
  },
  {
   "cell_type": "code",
   "execution_count": 78,
   "metadata": {},
   "outputs": [],
   "source": [
    "import torch\n",
    "from sklearn.metrics import average_precision_score\n",
    "import numpy as np\n",
    "from tqdm import tqdm\n",
    "def evaluate_map(model, dataloader, device):\n",
    "    model.eval()  # Set the model to evaluation mode\n",
    "    all_labels = []\n",
    "    all_preds = []\n",
    "\n",
    "    with torch.no_grad():\n",
    "        for batch_idx, (images, labels) in (enumerate(dataloader)):\n",
    "            images = images.to(device)\n",
    "            labels = labels.to(device)\n",
    "            \n",
    "            outputs = model(images)\n",
    "            preds = torch.sigmoid(outputs)  # Sigmoid to get probabilities\n",
    "            \n",
    "            all_labels.append(labels.cpu().numpy())\n",
    "            all_preds.append(preds.cpu().numpy())\n",
    "\n",
    "    all_labels = np.concatenate(all_labels, axis=0)\n",
    "    all_preds = np.concatenate(all_preds, axis=0)\n",
    "\n",
    "    # Calculate average precision for each label\n",
    "    ap_per_label = []\n",
    "    for i in range(all_labels.shape[1]):\n",
    "        ap = average_precision_score(all_labels[:, i], all_preds[:, i])\n",
    "        ap_per_label.append(ap)\n",
    "    map_score = np.mean(ap_per_label)\n",
    "    return map_score, ap_per_label"
   ]
  },
  {
   "cell_type": "code",
   "execution_count": 86,
   "metadata": {},
   "outputs": [
    {
     "name": "stderr",
     "output_type": "stream",
     "text": [
      "23it [00:02, 10.60it/s]\n"
     ]
    },
    {
     "name": "stdout",
     "output_type": "stream",
     "text": [
      "Epoch 0 | validation mAP: 0.45641098051272583 | avg_loss: 0.00897589698433876\n"
     ]
    },
    {
     "name": "stderr",
     "output_type": "stream",
     "text": [
      "23it [00:02, 10.12it/s]\n"
     ]
    },
    {
     "name": "stdout",
     "output_type": "stream",
     "text": [
      "Epoch 1 | validation mAP: 0.3459917793736347 | avg_loss: 0.006703169085085392\n"
     ]
    },
    {
     "name": "stderr",
     "output_type": "stream",
     "text": [
      "23it [00:02, 10.37it/s]\n"
     ]
    },
    {
     "name": "stdout",
     "output_type": "stream",
     "text": [
      "Epoch 2 | validation mAP: 0.3780360073391806 | avg_loss: 0.016483638435602188\n"
     ]
    },
    {
     "name": "stderr",
     "output_type": "stream",
     "text": [
      "23it [00:02,  9.01it/s]\n"
     ]
    },
    {
     "name": "stdout",
     "output_type": "stream",
     "text": [
      "Epoch 3 | validation mAP: 0.45476367861280137 | avg_loss: 0.012422800064086914\n"
     ]
    },
    {
     "name": "stderr",
     "output_type": "stream",
     "text": [
      "23it [00:02,  9.81it/s]\n"
     ]
    },
    {
     "name": "stdout",
     "output_type": "stream",
     "text": [
      "Epoch 4 | validation mAP: 0.4867489806179117 | avg_loss: 0.009190602228045464\n"
     ]
    },
    {
     "name": "stderr",
     "output_type": "stream",
     "text": [
      "23it [00:02, 10.42it/s]\n"
     ]
    },
    {
     "name": "stdout",
     "output_type": "stream",
     "text": [
      "Epoch 5 | validation mAP: 0.5329949869678791 | avg_loss: 0.007803755346685648\n"
     ]
    },
    {
     "name": "stderr",
     "output_type": "stream",
     "text": [
      "23it [00:02, 10.43it/s]\n"
     ]
    },
    {
     "name": "stdout",
     "output_type": "stream",
     "text": [
      "Epoch 6 | validation mAP: 0.4035012057350606 | avg_loss: 0.010013770312070847\n"
     ]
    },
    {
     "name": "stderr",
     "output_type": "stream",
     "text": [
      "23it [00:02, 10.27it/s]\n"
     ]
    },
    {
     "name": "stdout",
     "output_type": "stream",
     "text": [
      "Epoch 7 | validation mAP: 0.5254460860775242 | avg_loss: 0.010917195118963718\n"
     ]
    },
    {
     "name": "stderr",
     "output_type": "stream",
     "text": [
      "23it [00:02,  9.32it/s]\n"
     ]
    },
    {
     "name": "stdout",
     "output_type": "stream",
     "text": [
      "Epoch 8 | validation mAP: 0.5819767961977232 | avg_loss: 0.006297580432146788\n"
     ]
    },
    {
     "name": "stderr",
     "output_type": "stream",
     "text": [
      "23it [00:02,  9.80it/s]\n"
     ]
    },
    {
     "name": "stdout",
     "output_type": "stream",
     "text": [
      "Epoch 9 | validation mAP: 0.5850289566394012 | avg_loss: 0.007941165938973427\n"
     ]
    },
    {
     "name": "stderr",
     "output_type": "stream",
     "text": [
      "23it [00:02, 10.58it/s]\n"
     ]
    },
    {
     "name": "stdout",
     "output_type": "stream",
     "text": [
      "Epoch 10 | validation mAP: 0.60046986185103 | avg_loss: 0.007438318338245153\n"
     ]
    },
    {
     "name": "stderr",
     "output_type": "stream",
     "text": [
      "23it [00:02, 10.02it/s]\n"
     ]
    },
    {
     "name": "stdout",
     "output_type": "stream",
     "text": [
      "Epoch 11 | validation mAP: 0.6502450895379425 | avg_loss: 0.007978645153343678\n"
     ]
    },
    {
     "name": "stderr",
     "output_type": "stream",
     "text": [
      "23it [00:02,  9.26it/s]\n"
     ]
    },
    {
     "name": "stdout",
     "output_type": "stream",
     "text": [
      "Epoch 12 | validation mAP: 0.6025497335940541 | avg_loss: 0.008593267761170864\n"
     ]
    },
    {
     "name": "stderr",
     "output_type": "stream",
     "text": [
      "23it [00:02, 10.68it/s]\n"
     ]
    },
    {
     "name": "stdout",
     "output_type": "stream",
     "text": [
      "Epoch 13 | validation mAP: 0.6060030880010564 | avg_loss: 0.007023943122476339\n"
     ]
    },
    {
     "name": "stderr",
     "output_type": "stream",
     "text": [
      "23it [00:02, 10.83it/s]\n"
     ]
    },
    {
     "name": "stdout",
     "output_type": "stream",
     "text": [
      "Epoch 14 | validation mAP: 0.6355775163761962 | avg_loss: 0.004376550205051899\n"
     ]
    },
    {
     "name": "stderr",
     "output_type": "stream",
     "text": [
      "23it [00:02, 10.88it/s]\n"
     ]
    },
    {
     "name": "stdout",
     "output_type": "stream",
     "text": [
      "Epoch 15 | validation mAP: 0.65794001273471 | avg_loss: 0.0057038734667003155\n"
     ]
    },
    {
     "name": "stderr",
     "output_type": "stream",
     "text": [
      "23it [00:02, 10.90it/s]\n"
     ]
    },
    {
     "name": "stdout",
     "output_type": "stream",
     "text": [
      "Epoch 16 | validation mAP: 0.6862390254617372 | avg_loss: 0.004662816878408194\n"
     ]
    },
    {
     "name": "stderr",
     "output_type": "stream",
     "text": [
      "23it [00:02,  9.93it/s]\n"
     ]
    },
    {
     "name": "stdout",
     "output_type": "stream",
     "text": [
      "Epoch 17 | validation mAP: 0.6602901740210531 | avg_loss: 0.005197088234126568\n"
     ]
    },
    {
     "name": "stderr",
     "output_type": "stream",
     "text": [
      "23it [00:02, 10.81it/s]\n"
     ]
    },
    {
     "name": "stdout",
     "output_type": "stream",
     "text": [
      "Epoch 18 | validation mAP: 0.6487355093424255 | avg_loss: 0.0040502650663256645\n"
     ]
    },
    {
     "name": "stderr",
     "output_type": "stream",
     "text": [
      "23it [00:02, 10.70it/s]\n"
     ]
    },
    {
     "name": "stdout",
     "output_type": "stream",
     "text": [
      "Epoch 19 | validation mAP: 0.7270726536675011 | avg_loss: 0.009333928115665913\n"
     ]
    },
    {
     "name": "stderr",
     "output_type": "stream",
     "text": [
      "23it [00:02, 10.66it/s]\n"
     ]
    },
    {
     "name": "stdout",
     "output_type": "stream",
     "text": [
      "Epoch 20 | validation mAP: 0.707483230776536 | avg_loss: 0.004998341668397188\n"
     ]
    },
    {
     "name": "stderr",
     "output_type": "stream",
     "text": [
      "23it [00:02, 10.97it/s]\n"
     ]
    },
    {
     "name": "stdout",
     "output_type": "stream",
     "text": [
      "Epoch 21 | validation mAP: 0.696615385563868 | avg_loss: 0.0056933630257844925\n"
     ]
    },
    {
     "name": "stderr",
     "output_type": "stream",
     "text": [
      "23it [00:02, 10.98it/s]\n"
     ]
    },
    {
     "name": "stdout",
     "output_type": "stream",
     "text": [
      "Epoch 22 | validation mAP: 0.679132669331966 | avg_loss: 0.0057898289524018764\n"
     ]
    },
    {
     "name": "stderr",
     "output_type": "stream",
     "text": [
      "23it [00:02, 10.96it/s]\n"
     ]
    },
    {
     "name": "stdout",
     "output_type": "stream",
     "text": [
      "Epoch 23 | validation mAP: 0.6806166073824148 | avg_loss: 0.0033337955828756094\n"
     ]
    },
    {
     "name": "stderr",
     "output_type": "stream",
     "text": [
      "23it [00:02, 10.97it/s]\n"
     ]
    },
    {
     "name": "stdout",
     "output_type": "stream",
     "text": [
      "Epoch 24 | validation mAP: 0.7244329611775443 | avg_loss: 0.00493922783061862\n"
     ]
    },
    {
     "name": "stderr",
     "output_type": "stream",
     "text": [
      "23it [00:02, 10.99it/s]\n"
     ]
    },
    {
     "name": "stdout",
     "output_type": "stream",
     "text": [
      "Epoch 25 | validation mAP: 0.7121334285298225 | avg_loss: 0.005750473588705063\n"
     ]
    },
    {
     "name": "stderr",
     "output_type": "stream",
     "text": [
      "23it [00:02, 10.97it/s]\n"
     ]
    },
    {
     "name": "stdout",
     "output_type": "stream",
     "text": [
      "Epoch 26 | validation mAP: 0.7261451911312014 | avg_loss: 0.007490485906600952\n"
     ]
    },
    {
     "name": "stderr",
     "output_type": "stream",
     "text": [
      "23it [00:02, 10.78it/s]\n"
     ]
    },
    {
     "name": "stdout",
     "output_type": "stream",
     "text": [
      "Epoch 27 | validation mAP: 0.7355117818918213 | avg_loss: 0.0076883211731910706\n"
     ]
    }
   ],
   "source": [
    "transforms = v2.Compose([\n",
    "    v2.RandomResizedCrop(size=(224, 224), antialias=True),\n",
    "    v2.RandomHorizontalFlip(p=0.5),\n",
    "    v2.ToImage(),\n",
    "    v2.ToDtype(torch.float32, scale=True),\n",
    "    v2.Normalize(mean=[0.485, 0.456, 0.406], std=[0.229, 0.224, 0.225]),\n",
    "])\n",
    "\n",
    "all_data = SingleImageDataset('single_images.pkl', transform=transforms)\n",
    "train_set, val_set = torch.utils.data.random_split(all_data, [0.8, 0.2])\n",
    "\n",
    "\n",
    "\n",
    "train_loader = DataLoader(train_set, batch_size=32, shuffle=True)\n",
    "val_loader = DataLoader(val_set, batch_size=32, shuffle=False)\n",
    "torch.set_float32_matmul_precision('high')\n",
    "device = 'cuda:0'\n",
    "\n",
    "model = torchvision.models.resnet50(weights=torchvision.models.ResNet50_Weights.IMAGENET1K_V2)\n",
    "model.fc = nn.Sequential(nn.Linear(2048, 3, bias=True))\n",
    "model = model.to(device)\n",
    "# model = torch.compile(model)\n",
    "optimizer = torch.optim.AdamW(model.parameters(), lr=1e-4)\n",
    "criterion = torch.nn.BCEWithLogitsLoss()\n",
    "epochs = 50\n",
    "\n",
    "for epoch in range(epochs):\n",
    "    loss = 0\n",
    "    start = time.time()\n",
    "\n",
    "    for step, (datas, labels) in (enumerate(train_loader)):\n",
    "        datas = datas.to(device)\n",
    "        labels = labels.to(device)\n",
    "        output = model(datas)\n",
    "\n",
    "        loss = criterion(output, labels)\n",
    "        loss.backward()\n",
    "        norm = torch.nn.utils.clip_grad_norm_(model.parameters(), 1.0)\n",
    "        optimizer.step()\n",
    "        \n",
    "        loss += loss.item()\n",
    "        # print(f'Epoch: {epoch} | Step: {step} | Time: {round((end-start)*1000)} | Loss: {loss.item()}')\n",
    "    end = time.time()\n",
    "    print(f\"Epoch {epoch} | validation mAP: {evaluate_map(model, val_loader, 'cuda:0')[0]} | avg_loss: {loss/(step+1)}\")\n"
   ]
  },
  {
   "cell_type": "code",
   "execution_count": 76,
   "metadata": {},
   "outputs": [
    {
     "name": "stderr",
     "output_type": "stream",
     "text": [
      "113it [00:11,  9.84it/s]\n"
     ]
    },
    {
     "data": {
      "text/plain": [
       "(0.22480193480979463,\n",
       " [0.16909663521797264, 0.3269857268493618, 0.1783234423620495])"
      ]
     },
     "execution_count": 76,
     "metadata": {},
     "output_type": "execute_result"
    }
   ],
   "source": [
    "evaluate_map(model, val_loader, 'cuda:0')"
   ]
  },
  {
   "cell_type": "code",
   "execution_count": null,
   "metadata": {},
   "outputs": [],
   "source": []
  }
 ],
 "metadata": {
  "kernelspec": {
   "display_name": "Python 3 (ipykernel)",
   "language": "python",
   "name": "python3"
  },
  "language_info": {
   "codemirror_mode": {
    "name": "ipython",
    "version": 3
   },
   "file_extension": ".py",
   "mimetype": "text/x-python",
   "name": "python",
   "nbconvert_exporter": "python",
   "pygments_lexer": "ipython3",
   "version": "3.8.19"
  },
  "orig_nbformat": 4
 },
 "nbformat": 4,
 "nbformat_minor": 2
}
